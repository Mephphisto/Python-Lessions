{
  "nbformat": 4,
  "nbformat_minor": 0,
  "metadata": {
    "colab": {
      "name": "01 - The Basics.ipynb",
      "provenance": [],
      "collapsed_sections": []
    },
    "kernelspec": {
      "name": "python3",
      "display_name": "Python 3"
    }
  },
  "cells": [
    {
      "cell_type": "markdown",
      "metadata": {
        "id": "YBYCSzcjiekB",
        "colab_type": "text"
      },
      "source": [
        "**Die Basics!**\n",
        "\n",
        "Beim programmieren gibst du dem Computer eine Anleitung was er tun soll!"
      ]
    },
    {
      "cell_type": "code",
      "metadata": {
        "id": "hHVHMx3LiM_4",
        "colab_type": "code",
        "outputId": "c7f33686-774d-43fd-be69-6720235fcace",
        "colab": {
          "base_uri": "https://localhost:8080/",
          "height": 35
        }
      },
      "source": [
        "print(\"Hello World\")"
      ],
      "execution_count": 0,
      "outputs": [
        {
          "output_type": "stream",
          "text": [
            "Hello World\n"
          ],
          "name": "stdout"
        }
      ]
    },
    {
      "cell_type": "markdown",
      "metadata": {
        "id": "C6JOmO2Rn53m",
        "colab_type": "text"
      },
      "source": [
        "print - Gebe text zurück man spricht von ausgeben.\n",
        "\"...\" - anfürungszeichen markieren Text der Kein programm ist"
      ]
    },
    {
      "cell_type": "code",
      "metadata": {
        "id": "-_pIs2zPiTkz",
        "colab_type": "code",
        "outputId": "37d2b459-81fe-43e5-86f6-1eba9f065256",
        "colab": {
          "base_uri": "https://localhost:8080/",
          "height": 70
        }
      },
      "source": [
        "print(\"Hallo 1\")\n",
        "print(\"Hallo 2\")\n",
        "print(\"Hallo 3\")"
      ],
      "execution_count": 0,
      "outputs": [
        {
          "output_type": "stream",
          "text": [
            "Hallo 1\n",
            "Hallo 2\n",
            "Hallo 3\n"
          ],
          "name": "stdout"
        }
      ]
    },
    {
      "cell_type": "markdown",
      "metadata": {
        "id": "gQ2uqyQyoSDL",
        "colab_type": "text"
      },
      "source": [
        "Der Computer führt den code zeile für zeile von oben nach unten aus.*italicized text*"
      ]
    },
    {
      "cell_type": "code",
      "metadata": {
        "id": "Z_HTojWjihZl",
        "colab_type": "code",
        "outputId": "c72070bc-8bb2-4109-e59c-aa9b8bf1515f",
        "colab": {
          "base_uri": "https://localhost:8080/",
          "height": 35
        }
      },
      "source": [
        "meintext = \"Hallo\"\n",
        "print(meintext)"
      ],
      "execution_count": 0,
      "outputs": [
        {
          "output_type": "stream",
          "text": [
            "Hallo\n"
          ],
          "name": "stdout"
        }
      ]
    },
    {
      "cell_type": "markdown",
      "metadata": {
        "id": "RVamd8p-onZ5",
        "colab_type": "text"
      },
      "source": [
        "mit '=' lässt sich ein Wert oder ergebnis als Variable speichern.\n",
        "\n",
        "Variable = Wert\n"
      ]
    },
    {
      "cell_type": "code",
      "metadata": {
        "id": "QE81gxFxovx0",
        "colab_type": "code",
        "outputId": "f83e6020-e473-481c-8475-31bb6f2ee28c",
        "colab": {
          "base_uri": "https://localhost:8080/",
          "height": 35
        }
      },
      "source": [
        "Begrüßung = \"Hallo \"\n",
        "Nahme = \"Lisa\"\n",
        "Nachricht = Begrüßung + Nahme +\"!\"\n",
        "print(Nachricht)"
      ],
      "execution_count": 0,
      "outputs": [
        {
          "output_type": "stream",
          "text": [
            "Hallo Lisa!\n"
          ],
          "name": "stdout"
        }
      ]
    },
    {
      "cell_type": "markdown",
      "metadata": {
        "id": "hyE_ZNe3p6TL",
        "colab_type": "text"
      },
      "source": [
        "Mit '+' kannst du zwei text stücke verbinden.\n",
        "Aber das geht nicht immer"
      ]
    },
    {
      "cell_type": "code",
      "metadata": {
        "id": "rcebgZHkqqzw",
        "colab_type": "code",
        "outputId": "43280307-0fd4-46fe-c6ec-60dd3a225542",
        "colab": {
          "base_uri": "https://localhost:8080/",
          "height": 220
        }
      },
      "source": [
        "print(\"String = \" + \"2\")\n",
        "print(\"Zahl = \" + 2)"
      ],
      "execution_count": 0,
      "outputs": [
        {
          "output_type": "stream",
          "text": [
            "String = 2\n"
          ],
          "name": "stdout"
        },
        {
          "output_type": "error",
          "ename": "TypeError",
          "evalue": "ignored",
          "traceback": [
            "\u001b[0;31m---------------------------------------------------------------------------\u001b[0m",
            "\u001b[0;31mTypeError\u001b[0m                                 Traceback (most recent call last)",
            "\u001b[0;32m<ipython-input-13-e18a17a43175>\u001b[0m in \u001b[0;36m<module>\u001b[0;34m()\u001b[0m\n\u001b[1;32m      1\u001b[0m \u001b[0mprint\u001b[0m\u001b[0;34m(\u001b[0m\u001b[0;34m\"String = \"\u001b[0m \u001b[0;34m+\u001b[0m \u001b[0;34m\"2\"\u001b[0m\u001b[0;34m)\u001b[0m\u001b[0;34m\u001b[0m\u001b[0;34m\u001b[0m\u001b[0m\n\u001b[0;32m----> 2\u001b[0;31m \u001b[0mprint\u001b[0m\u001b[0;34m(\u001b[0m\u001b[0;34m\"Zahl = \"\u001b[0m \u001b[0;34m+\u001b[0m \u001b[0;36m2\u001b[0m\u001b[0;34m)\u001b[0m\u001b[0;34m\u001b[0m\u001b[0;34m\u001b[0m\u001b[0m\n\u001b[0m\u001b[1;32m      3\u001b[0m \u001b[0mprint\u001b[0m\u001b[0;34m(\u001b[0m\u001b[0;34m\"Cast = \"\u001b[0m \u001b[0;34m+\u001b[0m \u001b[0mstr\u001b[0m\u001b[0;34m(\u001b[0m\u001b[0;36m2\u001b[0m\u001b[0;34m)\u001b[0m\u001b[0;34m)\u001b[0m\u001b[0;34m\u001b[0m\u001b[0;34m\u001b[0m\u001b[0m\n",
            "\u001b[0;31mTypeError\u001b[0m: must be str, not int"
          ]
        }
      ]
    },
    {
      "cell_type": "markdown",
      "metadata": {
        "id": "qjd-Z5_Wq4uN",
        "colab_type": "text"
      },
      "source": [
        "\"2\" ist der text zwei oder wie der Proigrammierer sagt ein string\n",
        "\n",
        "2 ohnr anführungszeichen ist die zahl zwei \n",
        "\n",
        "Man spricht vom Typ der Variablen\n",
        "\n",
        "'+' verbindet zwei strings zu einem aber nicht einen string und eine zahl \n"
      ]
    },
    {
      "cell_type": "code",
      "metadata": {
        "id": "75lYCRdFrn8w",
        "colab_type": "code",
        "outputId": "83164304-dc70-40f5-f4a9-2da9e6f52990",
        "colab": {
          "base_uri": "https://localhost:8080/",
          "height": 35
        }
      },
      "source": [
        "print(\"Cast = \" + str(2))"
      ],
      "execution_count": 0,
      "outputs": [
        {
          "output_type": "stream",
          "text": [
            "Cast = 2\n"
          ],
          "name": "stdout"
        }
      ]
    },
    {
      "cell_type": "markdown",
      "metadata": {
        "id": "quoX23wJsB9N",
        "colab_type": "text"
      },
      "source": [
        "Du kannst zahlen zu strings convertieren, oder wie der Programmierer sagt casten. str() wandelt eine variable in einen string um.\n",
        "\n",
        "Auch zahlen lassen sich ausgeben"
      ]
    },
    {
      "cell_type": "code",
      "metadata": {
        "id": "-E_Nm4sAsO0r",
        "colab_type": "code",
        "outputId": "e425fe17-c7e5-4737-df1d-d62e981c86d1",
        "colab": {
          "base_uri": "https://localhost:8080/",
          "height": 238
        }
      },
      "source": [
        "print(2)\n",
        "print(2+3)\n",
        "print(\"2\"+3)"
      ],
      "execution_count": 0,
      "outputs": [
        {
          "output_type": "stream",
          "text": [
            "2\n",
            "5\n"
          ],
          "name": "stdout"
        },
        {
          "output_type": "error",
          "ename": "TypeError",
          "evalue": "ignored",
          "traceback": [
            "\u001b[0;31m---------------------------------------------------------------------------\u001b[0m",
            "\u001b[0;31mTypeError\u001b[0m                                 Traceback (most recent call last)",
            "\u001b[0;32m<ipython-input-18-069115bb1102>\u001b[0m in \u001b[0;36m<module>\u001b[0;34m()\u001b[0m\n\u001b[1;32m      1\u001b[0m \u001b[0mprint\u001b[0m\u001b[0;34m(\u001b[0m\u001b[0;36m2\u001b[0m\u001b[0;34m)\u001b[0m\u001b[0;34m\u001b[0m\u001b[0;34m\u001b[0m\u001b[0m\n\u001b[1;32m      2\u001b[0m \u001b[0mprint\u001b[0m\u001b[0;34m(\u001b[0m\u001b[0;36m2\u001b[0m\u001b[0;34m+\u001b[0m\u001b[0;36m3\u001b[0m\u001b[0;34m)\u001b[0m\u001b[0;34m\u001b[0m\u001b[0;34m\u001b[0m\u001b[0m\n\u001b[0;32m----> 3\u001b[0;31m \u001b[0mprint\u001b[0m\u001b[0;34m(\u001b[0m\u001b[0;34m\"2\"\u001b[0m\u001b[0;34m+\u001b[0m\u001b[0;36m3\u001b[0m\u001b[0;34m)\u001b[0m\u001b[0;34m\u001b[0m\u001b[0;34m\u001b[0m\u001b[0m\n\u001b[0m",
            "\u001b[0;31mTypeError\u001b[0m: must be str, not int"
          ]
        }
      ]
    },
    {
      "cell_type": "markdown",
      "metadata": {
        "id": "EYArr14fskKg",
        "colab_type": "text"
      },
      "source": [
        "Zahlen lassen sich mit '+' Addieren.\n",
        "\n",
        "Aber ein string lässt sich nicht mit einer zahl addieren. Du musst den String erstine eine zahl umwandeln."
      ]
    },
    {
      "cell_type": "code",
      "metadata": {
        "id": "PyEZZbnDsgXe",
        "colab_type": "code",
        "outputId": "e9a4e64c-1459-4f93-8e96-22d62441d56d",
        "colab": {
          "base_uri": "https://localhost:8080/",
          "height": 35
        }
      },
      "source": [
        "print(2+int(\"3\"))"
      ],
      "execution_count": 0,
      "outputs": [
        {
          "output_type": "stream",
          "text": [
            "5\n"
          ],
          "name": "stdout"
        }
      ]
    },
    {
      "cell_type": "markdown",
      "metadata": {
        "id": "VmNKcw2nt3au",
        "colab_type": "text"
      },
      "source": [
        "int steht für integer Ganze zahl (1,2,3,4 ....)\n",
        "\n",
        "int() wandelt eine Variable in eine Ganze zahl um.\n",
        "aber nicht jede variable lässt sich in eine zahl umwandeln."
      ]
    },
    {
      "cell_type": "code",
      "metadata": {
        "id": "OLhgTQSguoJ9",
        "colab_type": "code",
        "outputId": "fe33d375-623a-4684-f478-68adc60bc99f",
        "colab": {
          "base_uri": "https://localhost:8080/",
          "height": 168
        }
      },
      "source": [
        "int(\"Hallo\")"
      ],
      "execution_count": 0,
      "outputs": [
        {
          "output_type": "error",
          "ename": "ValueError",
          "evalue": "ignored",
          "traceback": [
            "\u001b[0;31m---------------------------------------------------------------------------\u001b[0m",
            "\u001b[0;31mValueError\u001b[0m                                Traceback (most recent call last)",
            "\u001b[0;32m<ipython-input-20-114224e50c8d>\u001b[0m in \u001b[0;36m<module>\u001b[0;34m()\u001b[0m\n\u001b[0;32m----> 1\u001b[0;31m \u001b[0mint\u001b[0m\u001b[0;34m(\u001b[0m\u001b[0;34m\"Hallo\"\u001b[0m\u001b[0;34m)\u001b[0m\u001b[0;34m\u001b[0m\u001b[0;34m\u001b[0m\u001b[0m\n\u001b[0m",
            "\u001b[0;31mValueError\u001b[0m: invalid literal for int() with base 10: 'Hallo'"
          ]
        }
      ]
    },
    {
      "cell_type": "markdown",
      "metadata": {
        "id": "QdDY6bHzuxZY",
        "colab_type": "text"
      },
      "source": [
        "\"Hallo\" lässt sich nicht sinnvoll als Ganzezahl verstehen.\n",
        "\n",
        "In Summe:"
      ]
    },
    {
      "cell_type": "code",
      "metadata": {
        "id": "Eh3TgcIdutIR",
        "colab_type": "code",
        "outputId": "b276b700-6282-42b9-979a-531baf681315",
        "colab": {
          "base_uri": "https://localhost:8080/",
          "height": 35
        }
      },
      "source": [
        "Berüßung = \"Hallo\"\n",
        "Nahme = \"Lisa\"\n",
        "print(Begrußung + \" \" + Nahme + \" \" + str(2 + int(\"2\")) + \"!\") "
      ],
      "execution_count": 0,
      "outputs": [
        {
          "output_type": "stream",
          "text": [
            "Hallo Lisa 4!\n"
          ],
          "name": "stdout"
        }
      ]
    },
    {
      "cell_type": "markdown",
      "metadata": {
        "id": "vETwQxUOrmoI",
        "colab_type": "text"
      },
      "source": [
        "**Aufgabe:**\n",
        "\n",
        "Schreib einen kurzen Dialog im Schema:\n",
        "\n",
        "A: \" ...\"\n",
        "\n",
        "B: \" ...\"\n",
        "\n",
        "Speichere die Nahmen als Variablen, damit du sie nciht erneut tippen musst und gib dem text der beiden persohnen eine andere farbe! \n",
        "\n",
        "tipp:\n",
        "Wenn du am anfang von deinem Dokument \n",
        "```\n",
        "from termcolor import colored\n",
        "```\n",
        "einfügst, kannst du mit \n",
        "```\n",
        "print(colored('hello', 'red'), colored('world', 'green'))\n",
        "```\n",
        "farbigen text erzeugen\n",
        "\n"
      ]
    },
    {
      "cell_type": "code",
      "metadata": {
        "id": "shroO5BuPUXU",
        "colab_type": "code",
        "colab": {
          "base_uri": "https://localhost:8080/",
          "height": 35
        },
        "outputId": "3d38c489-241d-4445-e444-80893d0161b5"
      },
      "source": [
        "from termcolor import colored\n",
        "print(colored('hello', 'red'), colored('world', 'green'))"
      ],
      "execution_count": 1,
      "outputs": [
        {
          "output_type": "stream",
          "text": [
            "\u001b[31mhello\u001b[0m \u001b[32mworld\u001b[0m\n"
          ],
          "name": "stdout"
        }
      ]
    }
  ]
}